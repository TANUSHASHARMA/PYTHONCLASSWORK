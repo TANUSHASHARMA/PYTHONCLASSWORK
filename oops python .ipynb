{
 "cells": [
  {
   "cell_type": "code",
   "execution_count": 125,
   "metadata": {},
   "outputs": [
    {
     "name": "stdout",
     "output_type": "stream",
     "text": [
      "Match found: hello\n"
     ]
    }
   ],
   "source": [
    "# regular expressions in python (using re module)\n",
    "import re\n",
    "pattern = r\"hello\"\n",
    "text = \"hello world ,hello world ,hello world \"\n",
    "match = re.search(pattern, text)\n",
    "print(\"Match found:\", match.group() if match else \"No match\")\n",
    "\n"
   ]
  },
  {
   "cell_type": "code",
   "execution_count": 126,
   "metadata": {},
   "outputs": [
    {
     "name": "stdout",
     "output_type": "stream",
     "text": [
      "Match found: cat\n"
     ]
    }
   ],
   "source": [
    "pattern = r\"cat\"\n",
    "text = \"The cat sat on the mat.\"\n",
    "match = re.search(pattern, text)\n",
    "print(\"Match found:\", match.group() if match else \"No match\")\n"
   ]
  },
  {
   "cell_type": "code",
   "execution_count": 127,
   "metadata": {},
   "outputs": [
    {
     "name": "stdout",
     "output_type": "stream",
     "text": [
      "Matches found: ['Hello World ']\n"
     ]
    }
   ],
   "source": [
    "pattern =  r\"[ A-z]+\"\n",
    "text = \"Hello World 123\"\n",
    "matches = re.findall(pattern, text)\n",
    "print(\"Matches found:\", matches)\n"
   ]
  },
  {
   "cell_type": "code",
   "execution_count": 128,
   "metadata": {},
   "outputs": [
    {
     "name": "stdout",
     "output_type": "stream",
     "text": [
      "Greedy match: content\n",
      "Lazy match: \n"
     ]
    }
   ],
   "source": [
    "#greedy matches doubt\n",
    "pattern = r\".*\"\n",
    "text = \"content\"\n",
    "match = re.search (pattern ,text)\n",
    "print (\"Greedy match:\",match.group())\n",
    "pattern_lazy = r\".*?\"\n",
    "match_lazy = re.search(pattern_lazy, text)\n",
    "print(\"Lazy match:\", match_lazy.group())\n"
   ]
  },
  {
   "cell_type": "code",
   "execution_count": 129,
   "metadata": {},
   "outputs": [
    {
     "name": "stdout",
     "output_type": "stream",
     "text": [
      "Area code: 123\n",
      "Local code: 45\n"
     ]
    }
   ],
   "source": [
    "# grouping \n",
    "pattern = r\"(\\d{3})-(\\d{2})\"\n",
    "\n",
    "text = \"Phone number: 123-45\"\n",
    "match = re.search(pattern, text)\n",
    "print(\"Area code:\", match.group(1))\n",
    "print(\"Local code:\", match.group(2))\n"
   ]
  },
  {
   "cell_type": "code",
   "execution_count": 130,
   "metadata": {},
   "outputs": [
    {
     "name": "stdout",
     "output_type": "stream",
     "text": [
      "Match at start: Hello\n"
     ]
    }
   ],
   "source": [
    "#matching at begining or end\n",
    "pattern = r\"^Hello\"\n",
    "\n",
    "text = \"Hello world\"\n",
    "match = re.search(pattern, text)\n",
    "print(\"Match at start:\", match.group() if match else \"No match\")"
   ]
  },
  {
   "cell_type": "code",
   "execution_count": 131,
   "metadata": {},
   "outputs": [
    {
     "name": "stdout",
     "output_type": "stream",
     "text": [
      "Match at end: world\n"
     ]
    }
   ],
   "source": [
    "pattern = r\"world$\"\n",
    "match = re.search(pattern, text)\n",
    "print(\"Match at end:\", match.group() if match else \"No match\")"
   ]
  },
  {
   "cell_type": "code",
   "execution_count": 132,
   "metadata": {},
   "outputs": [
    {
     "name": "stdout",
     "output_type": "stream",
     "text": [
      "Matched text:  sharma\n",
      "Start position: 7\n",
      "End position: 14\n"
     ]
    }
   ],
   "source": [
    "# matching objects \n",
    "pattern = r\" sharma\"\n",
    "text = \"tanusha sharma\"\n",
    "match = re.search(pattern, text)\n",
    "print(\"Matched text:\", match.group())\n",
    "print(\"Start position:\", match.start())\n",
    "print(\"End position:\", match.end())\n"
   ]
  },
  {
   "cell_type": "code",
   "execution_count": 133,
   "metadata": {},
   "outputs": [
    {
     "name": "stdout",
     "output_type": "stream",
     "text": [
      "after subsitution:  The dog sat on the table.\n"
     ]
    }
   ],
   "source": [
    "#substituting\n",
    "pattern = r\"cat\"\n",
    "text = \" The cat sat on the table.\"\n",
    "result= re.sub(pattern ,\"dog\",text)\n",
    "print(\"after subsitution:\",result)"
   ]
  },
  {
   "cell_type": "markdown",
   "metadata": {},
   "source": []
  },
  {
   "cell_type": "code",
   "execution_count": 134,
   "metadata": {},
   "outputs": [
    {
     "name": "stdout",
     "output_type": "stream",
     "text": [
      "Split result: ['I', 'am', 'doing', 'python', 'classwork', 'of', 'unit', '4']\n"
     ]
    }
   ],
   "source": [
    "#splitting method\n",
    "pattern = r\"\\s+\"\n",
    "text = (\"I am doing python classwork of unit 4\")\n",
    "result = re.split(pattern, text)\n",
    "print(\"Split result:\", result)\n"
   ]
  },
  {
   "cell_type": "code",
   "execution_count": 140,
   "metadata": {},
   "outputs": [
    {
     "name": "stdout",
     "output_type": "stream",
     "text": [
      "\n",
      "\n",
      "17712\n",
      "\n",
      "\n",
      "after replacement\n",
      " \n",
      "\n",
      " this is my email Tanusha <b>17712</b>\n",
      "\n",
      "\n"
     ]
    }
   ],
   "source": [
    "import re \n",
    "test= \"\"\"This is my email Tanusha .17712@stu.upes.ac.in\"\"\"\n",
    "def bold_email(test):\n",
    "    pattern_email = r\"[\\w.]+@[\\S]*\"\n",
    "    match = re.search(pattern,test)\n",
    "    print (f\"\\n\\n{match.group()}\\n\\n\")\n",
    "    replace = f\"<b>{match.group()}</b>\"\n",
    "    replacedString = re.sub(pattern_email,replace,test)\n",
    "    return replacedString\n",
    "replacedString= bold_email(test)\n",
    "\n",
    "print(\"after replacement\")\n",
    "print (f\" \\n\\n{replacedString}\\n\\n\")\n",
    "       "
   ]
  },
  {
   "cell_type": "code",
   "execution_count": 137,
   "metadata": {},
   "outputs": [],
   "source": [
    "# compiling regular expressions \n",
    "pattern = re.compile(r\"\\d+\")\n"
   ]
  },
  {
   "cell_type": "code",
   "execution_count": 142,
   "metadata": {},
   "outputs": [
    {
     "name": "stdout",
     "output_type": "stream",
     "text": [
      "Matches: ['123', '456', '789', '901', '234']\n"
     ]
    }
   ],
   "source": [
    "text = \"123 apples , 456 bananas 789 oranges 901 grapes 234 kiwi \"\n",
    "matches = pattern .findall(text)\n",
    "print (\"Matches:\", matches)\n"
   ]
  },
  {
   "cell_type": "code",
   "execution_count": 144,
   "metadata": {},
   "outputs": [
    {
     "name": "stdout",
     "output_type": "stream",
     "text": [
      "case _insensitive match: Hello\n"
     ]
    }
   ],
   "source": [
    "#flags\n",
    "pattern= r\"hello\"\n",
    "text = \"Hello world\"\n",
    "match = re.search(pattern,text,re.IGNORECASE)\n",
    "print(\"case _insensitive match:\",match.group() if match else \"no match\")\n",
    "\n",
    "\n"
   ]
  },
  {
   "cell_type": "markdown",
   "metadata": {},
   "source": []
  }
 ],
 "metadata": {
  "kernelspec": {
   "display_name": "Python 3",
   "language": "python",
   "name": "python3"
  },
  "language_info": {
   "codemirror_mode": {
    "name": "ipython",
    "version": 3
   },
   "file_extension": ".py",
   "mimetype": "text/x-python",
   "name": "python",
   "nbconvert_exporter": "python",
   "pygments_lexer": "ipython3",
   "version": "3.13.0"
  }
 },
 "nbformat": 4,
 "nbformat_minor": 2
}
