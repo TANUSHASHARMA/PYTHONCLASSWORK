{
 "cells": [
  {
   "cell_type": "code",
   "execution_count": 9,
   "id": "bb503765-02f8-458d-8ea3-869377287f71",
   "metadata": {},
   "outputs": [
    {
     "name": "stdout",
     "output_type": "stream",
     "text": [
      "x is greater than 100\n"
     ]
    }
   ],
   "source": [
    "#checking if condition\n",
    "x=101\n",
    "if x<100:\n",
    "    print(\"x is less then 100\")\n",
    "else:\n",
    "    print(\"x is greater than 100\")\n",
    "    "
   ]
  },
  {
   "cell_type": "code",
   "execution_count": 13,
   "id": "b97899af-44a2-4cc2-bf09-ff108f4b9e79",
   "metadata": {},
   "outputs": [
    {
     "name": "stdout",
     "output_type": "stream",
     "text": [
      "both the conditions are true.\n"
     ]
    }
   ],
   "source": [
    "a=23\n",
    "b=45\n",
    "if a<b and b>a:\n",
    "    print(\"both the conditions are true.\")"
   ]
  },
  {
   "cell_type": "code",
   "execution_count": 18,
   "id": "5c717cee-5f0b-4997-a043-404f2bbcfdc1",
   "metadata": {},
   "outputs": [
    {
     "name": "stdout",
     "output_type": "stream",
     "text": [
      "3\n",
      "4\n",
      "5\n",
      "6\n"
     ]
    }
   ],
   "source": [
    "#while loop\n",
    "start =3\n",
    "while start <7:\n",
    "    print(start)\n",
    "    start+=1"
   ]
  },
  {
   "cell_type": "code",
   "execution_count": 53,
   "id": "038db42c-fa27-43d1-84c3-1de5f034098a",
   "metadata": {},
   "outputs": [
    {
     "name": "stdout",
     "output_type": "stream",
     "text": [
      "1\n",
      "2\n",
      "3\n",
      "4\n",
      "5\n",
      "6\n",
      "7\n"
     ]
    }
   ],
   "source": [
    " count = 1\n",
    "while count <= 10:\n",
    "    print(count)\n",
    "    if count == 7:\n",
    "        break\n",
    "    count += 1\n"
   ]
  },
  {
   "cell_type": "code",
   "execution_count": 69,
   "id": "600b5607-0c3c-4e70-b20e-8d287a18dae0",
   "metadata": {},
   "outputs": [
    {
     "name": "stdout",
     "output_type": "stream",
     "text": [
      "1\n",
      "2\n",
      "3\n",
      "5\n",
      "6\n"
     ]
    }
   ],
   "source": [
    "i = 0\n",
    "while i < 6:\n",
    "    i += 1\n",
    "    if i == 4:\n",
    "        continue  # Skip when i is 4\n",
    "    print(i)\n"
   ]
  },
  {
   "cell_type": "code",
   "execution_count": 72,
   "id": "3380199a-24a3-47b8-a3e7-25b0afd869d2",
   "metadata": {},
   "outputs": [
    {
     "name": "stdout",
     "output_type": "stream",
     "text": [
      "4\n",
      "5\n",
      "6\n",
      "7\n"
     ]
    }
   ],
   "source": [
    "#using for loop\n",
    "for count in range(4,8):\n",
    "    print(count)"
   ]
  },
  {
   "cell_type": "code",
   "execution_count": null,
   "id": "df477685-2afe-448e-937f-61ac697aba74",
   "metadata": {},
   "outputs": [],
   "source": []
  }
 ],
 "metadata": {
  "kernelspec": {
   "display_name": "Python 3 (ipykernel)",
   "language": "python",
   "name": "python3"
  },
  "language_info": {
   "codemirror_mode": {
    "name": "ipython",
    "version": 3
   },
   "file_extension": ".py",
   "mimetype": "text/x-python",
   "name": "python",
   "nbconvert_exporter": "python",
   "pygments_lexer": "ipython3",
   "version": "3.12.5"
  }
 },
 "nbformat": 4,
 "nbformat_minor": 5
}
